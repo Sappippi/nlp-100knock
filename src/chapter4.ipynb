{
 "cells": [
  {
   "cell_type": "markdown",
   "metadata": {},
   "source": [
    "# 第4章: 形態素解析\n",
    ">夏目漱石の小説『吾輩は猫である』の文章（neko.txt）をMeCabを使って形態素解析し，その結果をneko.txt.mecabというファイルに保存せよ．このファイルを用いて，以下の問に対応するプログラムを実装せよ．\n",
    ">\n",
    ">なお，問題37, 38, 39はmatplotlibもしくはGnuplotを用いるとよい．"
   ]
  },
  {
   "cell_type": "code",
   "execution_count": 2,
   "metadata": {},
   "outputs": [
    {
     "name": "stdout",
     "output_type": "stream",
     "text": [
      "/bin/bash: line 1: mecab: command not found\n"
     ]
    }
   ],
   "source": [
    "!mecab ../data/neko.txt -o ../data/neko.txt.mecab"
   ]
  },
  {
   "cell_type": "markdown",
   "metadata": {},
   "source": [
    "### 30. 形態素解析結果の読み込み\n",
    ">形態素解析結果（neko.txt.mecab）を読み込むプログラムを実装せよ．ただし，各形態素は表層形（surface），基本形（base），品詞（pos），品詞細分類1（pos1）をキーとするマッピング型に格納し，1文を形態素（マッピング型）のリストとして表現せよ．第4章の残りの問題では，ここで作ったプログラムを活用せよ．"
   ]
  },
  {
   "cell_type": "code",
   "execution_count": null,
   "metadata": {},
   "outputs": [],
   "source": [
    "import pandas as pd\n",
    "from my_functions import divide_conquer_split\n",
    "\n",
    "df_waganeko = pd.read_table(\"../data/neko.txt.mecab\", sep=r\"\\t|,\", usecols=[0,1,2,7], names=[\"surface\", \"pos\", \"pos1\", \"base\"], engine='python')\n",
    "list_idx_eos = df_waganeko[df_waganeko[\"surface\"] == \"EOS\"].index.tolist()\n",
    "list_sentence = divide_conquer_split(df_waganeko, list_idx_eos)"
   ]
  },
  {
   "cell_type": "markdown",
   "metadata": {},
   "source": [
    "### 31. 動詞\n",
    ">動詞の表層形をすべて抽出せよ．"
   ]
  },
  {
   "cell_type": "code",
   "execution_count": 7,
   "metadata": {},
   "outputs": [
    {
     "data": {
      "text/plain": [
       "26        生れ\n",
       "32        つか\n",
       "41         し\n",
       "46        泣い\n",
       "52         し\n",
       "          ..\n",
       "226230    死ん\n",
       "226235    得る\n",
       "226241    死な\n",
       "226244     得\n",
       "226245    られ\n",
       "Name: surface, Length: 28901, dtype: object"
      ]
     },
     "execution_count": 7,
     "metadata": {},
     "output_type": "execute_result"
    }
   ],
   "source": [
    "waganeko_verbs = df_waganeko[df_waganeko[\"pos\"] == \"動詞\"]\n",
    "waganeko_verbs[\"surface\"]"
   ]
  },
  {
   "cell_type": "markdown",
   "metadata": {},
   "source": [
    "### 32. 動詞の基本形\n",
    "> 動詞の基本形をすべて抽出せよ"
   ]
  },
  {
   "cell_type": "code",
   "execution_count": 12,
   "metadata": {},
   "outputs": [
    {
     "data": {
      "text/plain": [
       "26        生れる\n",
       "32         つく\n",
       "41         する\n",
       "46         泣く\n",
       "52         する\n",
       "         ... \n",
       "226230     死ぬ\n",
       "226235     得る\n",
       "226241     死ぬ\n",
       "226244     得る\n",
       "226245    られる\n",
       "Name: base, Length: 28901, dtype: object"
      ]
     },
     "execution_count": 12,
     "metadata": {},
     "output_type": "execute_result"
    }
   ],
   "source": [
    "waganeko_verbs[\"base\"]"
   ]
  },
  {
   "cell_type": "markdown",
   "metadata": {},
   "source": [
    "### 33. 「AのB」\n",
    "> 2つの名詞が「の」で連結されている名詞句を抽出せよ．"
   ]
  },
  {
   "cell_type": "code",
   "execution_count": 13,
   "metadata": {},
   "outputs": [
    {
     "data": {
      "text/html": [
       "<div>\n",
       "<style scoped>\n",
       "    .dataframe tbody tr th:only-of-type {\n",
       "        vertical-align: middle;\n",
       "    }\n",
       "\n",
       "    .dataframe tbody tr th {\n",
       "        vertical-align: top;\n",
       "    }\n",
       "\n",
       "    .dataframe thead th {\n",
       "        text-align: right;\n",
       "    }\n",
       "</style>\n",
       "<table border=\"1\" class=\"dataframe\">\n",
       "  <thead>\n",
       "    <tr style=\"text-align: right;\">\n",
       "      <th></th>\n",
       "      <th>surface</th>\n",
       "      <th>pos</th>\n",
       "      <th>pos1</th>\n",
       "      <th>base</th>\n",
       "    </tr>\n",
       "  </thead>\n",
       "  <tbody>\n",
       "    <tr>\n",
       "      <th>0</th>\n",
       "      <td>一</td>\n",
       "      <td>名詞</td>\n",
       "      <td>数</td>\n",
       "      <td>一</td>\n",
       "    </tr>\n",
       "    <tr>\n",
       "      <th>1</th>\n",
       "      <td>記号</td>\n",
       "      <td>一般</td>\n",
       "      <td>*</td>\n",
       "      <td>None</td>\n",
       "    </tr>\n",
       "    <tr>\n",
       "      <th>2</th>\n",
       "      <td>EOS</td>\n",
       "      <td>None</td>\n",
       "      <td>None</td>\n",
       "      <td>None</td>\n",
       "    </tr>\n",
       "    <tr>\n",
       "      <th>3</th>\n",
       "      <td>記号</td>\n",
       "      <td>一般</td>\n",
       "      <td>*</td>\n",
       "      <td>None</td>\n",
       "    </tr>\n",
       "    <tr>\n",
       "      <th>4</th>\n",
       "      <td>EOS</td>\n",
       "      <td>None</td>\n",
       "      <td>None</td>\n",
       "      <td>None</td>\n",
       "    </tr>\n",
       "    <tr>\n",
       "      <th>...</th>\n",
       "      <td>...</td>\n",
       "      <td>...</td>\n",
       "      <td>...</td>\n",
       "      <td>...</td>\n",
       "    </tr>\n",
       "    <tr>\n",
       "      <th>226257</th>\n",
       "      <td>。</td>\n",
       "      <td>記号</td>\n",
       "      <td>句点</td>\n",
       "      <td>。</td>\n",
       "    </tr>\n",
       "    <tr>\n",
       "      <th>226258</th>\n",
       "      <td>記号</td>\n",
       "      <td>一般</td>\n",
       "      <td>*</td>\n",
       "      <td>None</td>\n",
       "    </tr>\n",
       "    <tr>\n",
       "      <th>226259</th>\n",
       "      <td>EOS</td>\n",
       "      <td>None</td>\n",
       "      <td>None</td>\n",
       "      <td>None</td>\n",
       "    </tr>\n",
       "    <tr>\n",
       "      <th>226260</th>\n",
       "      <td>記号</td>\n",
       "      <td>一般</td>\n",
       "      <td>*</td>\n",
       "      <td>None</td>\n",
       "    </tr>\n",
       "    <tr>\n",
       "      <th>226261</th>\n",
       "      <td>EOS</td>\n",
       "      <td>None</td>\n",
       "      <td>None</td>\n",
       "      <td>None</td>\n",
       "    </tr>\n",
       "  </tbody>\n",
       "</table>\n",
       "<p>226262 rows × 4 columns</p>\n",
       "</div>"
      ],
      "text/plain": [
       "       surface   pos  pos1  base\n",
       "0            一    名詞     数     一\n",
       "1           記号    一般     *  None\n",
       "2          EOS  None  None  None\n",
       "3           記号    一般     *  None\n",
       "4          EOS  None  None  None\n",
       "...        ...   ...   ...   ...\n",
       "226257       。    記号    句点     。\n",
       "226258      記号    一般     *  None\n",
       "226259     EOS  None  None  None\n",
       "226260      記号    一般     *  None\n",
       "226261     EOS  None  None  None\n",
       "\n",
       "[226262 rows x 4 columns]"
      ]
     },
     "execution_count": 13,
     "metadata": {},
     "output_type": "execute_result"
    }
   ],
   "source": [
    "df_waganeko"
   ]
  },
  {
   "cell_type": "markdown",
   "metadata": {},
   "source": [
    "### 34. 名詞の連接\n",
    ">名詞の連接（連続して出現する名詞）を最長一致で抽出せよ．"
   ]
  },
  {
   "cell_type": "code",
   "execution_count": null,
   "metadata": {},
   "outputs": [],
   "source": []
  },
  {
   "cell_type": "markdown",
   "metadata": {},
   "source": [
    "### 35. 単語の出現頻度\n",
    "> 文章中に出現する単語とその出現頻度を求め，出現頻度の高い順に並べよ．"
   ]
  },
  {
   "cell_type": "code",
   "execution_count": 56,
   "metadata": {},
   "outputs": [
    {
     "data": {
      "text/plain": [
       "surface\n",
       "の       9193\n",
       "て       6868\n",
       "は       6421\n",
       "に       6242\n",
       "を       6071\n",
       "        ... \n",
       "悔やん        1\n",
       "墓場         1\n",
       "切り落し       1\n",
       "ぎりご        1\n",
       "拷問         1\n",
       "Name: count, Length: 13553, dtype: int64"
      ]
     },
     "execution_count": 56,
     "metadata": {},
     "output_type": "execute_result"
    }
   ],
   "source": [
    "# 前処理 (ごり押し)\n",
    "waganeko_words = df_waganeko[(df_waganeko[\"surface\"]!=\"記号\") & (df_waganeko[\"surface\"]!=\"EOS\")]\n",
    "waganeko_words = waganeko_words[(waganeko_words[\"pos\"]!=\"記号\") & (waganeko_words[\"pos\"]!=\"フィラー\") & (waganeko_words[\"pos\"]!=\"空白\") & (waganeko_words[\"pos\"]!=\"その他\")]\n",
    "\n",
    "word_frequency = waganeko_words[\"surface\"].value_counts()\n",
    "word_frequency"
   ]
  },
  {
   "cell_type": "markdown",
   "metadata": {},
   "source": [
    "### 36. 頻度上位10語\n",
    "> 出現頻度が高い10語とその出現頻度をグラフ（例えば棒グラフなど）で表示せよ．"
   ]
  },
  {
   "cell_type": "code",
   "execution_count": 77,
   "metadata": {},
   "outputs": [
    {
     "data": {
      "text/plain": [
       "<Axes: >"
      ]
     },
     "execution_count": 77,
     "metadata": {},
     "output_type": "execute_result"
    },
    {
     "data": {
      "image/png": "[encoded data removed]",
      "text/plain": [
       "<Figure size 640x480 with 1 Axes>"
      ]
     },
     "metadata": {},
     "output_type": "display_data"
    }
   ],
   "source": [
    "import japanize_matplotlib\n",
    "import seaborn as sns\n",
    "\n",
    "# c.f. https://www.data-green.jp/part_of_speech/\n",
    "top10 = word_frequency.head(10)\n",
    "x = top10.index.to_list()\n",
    "y = top10.values.tolist()\n",
    "sns.barplot(x=x, y=y, hue=x, palette=\"rocket\")"
   ]
  },
  {
   "cell_type": "markdown",
   "metadata": {},
   "source": [
    "### 37. 「猫」と共起頻度の高い上位10語\n",
    "> 「猫」とよく共起する（共起頻度が高い）10語とその出現頻度をグラフ（例えば棒グラフなど）で表示せよ．"
   ]
  },
  {
   "cell_type": "code",
   "execution_count": null,
   "metadata": {},
   "outputs": [],
   "source": []
  },
  {
   "cell_type": "markdown",
   "metadata": {},
   "source": [
    "### 38. ヒストグラム\n",
    "> 単語の出現頻度のヒストグラムを描け．ただし，横軸は出現頻度を表し，1から単語の出現頻度の最大値までの線形目盛とする．縦軸はx軸で示される出現頻度となった単語の異なり数（種類数）である．"
   ]
  },
  {
   "cell_type": "code",
   "execution_count": null,
   "metadata": {},
   "outputs": [],
   "source": []
  },
  {
   "cell_type": "markdown",
   "metadata": {},
   "source": [
    "### 39. Zipfの法則\n",
    ">単語の出現頻度順位を横軸，その出現頻度を縦軸として，両対数グラフをプロットせよ．"
   ]
  },
  {
   "cell_type": "code",
   "execution_count": null,
   "metadata": {},
   "outputs": [],
   "source": []
  }
 ],
 "metadata": {
  "kernelspec": {
   "display_name": ".venv",
   "language": "python",
   "name": "python3"
  },
  "language_info": {
   "codemirror_mode": {
    "name": "ipython",
    "version": 3
   },
   "file_extension": ".py",
   "mimetype": "text/x-python",
   "name": "python",
   "nbconvert_exporter": "python",
   "pygments_lexer": "ipython3",
   "version": "3.13.0"
  }
 },
 "nbformat": 4,
 "nbformat_minor": 2
}
