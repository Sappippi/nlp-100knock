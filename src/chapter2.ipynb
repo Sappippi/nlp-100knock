{
 "cells": [
  {
   "cell_type": "markdown",
   "metadata": {},
   "source": [
    "### 第2章: UNIXコマンド\n",
    "> popular-names.txtは，アメリカで生まれた赤ちゃんの「名前」「性別」「人数」「年」をタブ区切り形式で格納したファイルである．以下の処理を行うプログラムを作成し，popular-names.txtを入力ファイルとして実行せよ．さらに，同様の処理をUNIXコマンドでも実行し，プログラムの実行結果を確認せよ．"
   ]
  },
  {
   "cell_type": "code",
   "execution_count": 163,
   "metadata": {},
   "outputs": [
    {
     "name": "stdout",
     "output_type": "stream",
     "text": [
      "rm: cannot remove '../data/popular-names.txt': No such file or directory\n",
      "--2024-10-31 16:45:13--  https://nlp100.github.io/data/popular-names.txt\n",
      "Resolving nlp100.github.io (nlp100.github.io)... 185.199.108.153, 185.199.110.153, 185.199.111.153, ...\n",
      "Connecting to nlp100.github.io (nlp100.github.io)|185.199.108.153|:443... connected.\n",
      "HTTP request sent, awaiting response... 200 OK\n",
      "Length: 55026 (54K) [text/plain]\n",
      "Saving to: ‘../data/popular-names.txt’\n",
      "\n",
      "popular-names.txt   100%[===================>]  53.74K  --.-KB/s    in 0.008s  \n",
      "\n",
      "2024-10-31 16:45:13 (6.63 MB/s) - ‘../data/popular-names.txt’ saved [55026/55026]\n",
      "\n"
     ]
    }
   ],
   "source": [
    "!rm  ../data/popular-names.txt\n",
    "!wget https://nlp100.github.io/data/popular-names.txt -P ../data"
   ]
  },
  {
   "cell_type": "markdown",
   "metadata": {},
   "source": [
    "### 10. 行数のカウント\n",
    "> 行数をカウントせよ．確認にはwcコマンドを用いよ．"
   ]
  },
  {
   "cell_type": "code",
   "execution_count": 164,
   "metadata": {},
   "outputs": [
    {
     "name": "stdout",
     "output_type": "stream",
     "text": [
      "行数:  2780\n"
     ]
    }
   ],
   "source": [
    "import pandas as pd\n",
    "\n",
    "path = '../data/popular-names.txt'\n",
    "df_popular_names = pd.read_csv(path, sep=\"\\t\", header=None)\n",
    "\n",
    "print(\"行数: \", df_popular_names.shape[0])"
   ]
  },
  {
   "cell_type": "code",
   "execution_count": 165,
   "metadata": {},
   "outputs": [
    {
     "name": "stdout",
     "output_type": "stream",
     "text": [
      " 2780 11120 55026 ../data/popular-names.txt\n"
     ]
    }
   ],
   "source": [
    "!wc ../data/popular-names.txt"
   ]
  },
  {
   "cell_type": "markdown",
   "metadata": {},
   "source": [
    "### 11. タブをスペースに置換\n",
    ">タブ1文字につきスペース1文字に置換せよ．確認にはsedコマンド，trコマンド，もしくはexpandコマンドを用いよ．"
   ]
  },
  {
   "cell_type": "code",
   "execution_count": 166,
   "metadata": {},
   "outputs": [],
   "source": [
    "with open(path, 'r') as raw_file:\n",
    "     str_file = raw_file.read()\n",
    "     str_file = str_file.replace('\\t', ' ')\n",
    "\n",
    "with open('../data/space-separated.txt', 'w') as file:\n",
    "     file.write(str_file)"
   ]
  },
  {
   "cell_type": "code",
   "execution_count": 167,
   "metadata": {},
   "outputs": [],
   "source": [
    "!cat ../data/popular-names.txt | tr \"\\t\" \" \" > ../data/space-separated2.txt\n",
    "!diff ../data/space-separated.txt ../data/space-separated2.txt"
   ]
  },
  {
   "cell_type": "markdown",
   "metadata": {},
   "source": [
    "### 12. 1列目をcol1.txtに，2列目をcol2.txtに保存\n",
    "> 各行の1列目だけを抜き出したものをcol1.txtに，2列目だけを抜き出したものをcol2.txtとしてファイルに保存せよ．確認にはcutコマンドを用いよ．"
   ]
  },
  {
   "cell_type": "code",
   "execution_count": 168,
   "metadata": {},
   "outputs": [],
   "source": [
    "col1 = df_popular_names[0]\n",
    "col2 = df_popular_names[1]\n",
    "\n",
    "col1.to_csv('../data/col1.txt', sep=',', header=False, index=False)\n",
    "col2.to_csv('../data/col2.txt', sep=',', header=False, index=False)"
   ]
  },
  {
   "cell_type": "code",
   "execution_count": 169,
   "metadata": {},
   "outputs": [],
   "source": [
    "!cut -f 1 ../data/popular-names.txt > ../data/col1-cut.txt\n",
    "!cut -f 2 ../data/popular-names.txt > ../data/col2-cut.txt\n",
    "\n",
    "!diff ../data/col1.txt ../data/col1-cut.txt\n",
    "!diff ../data/col2.txt ../data/col2-cut.txt"
   ]
  },
  {
   "cell_type": "markdown",
   "metadata": {},
   "source": [
    "### 13. col1.txtとcol2.txtをマージ\n",
    "> 12で作ったcol1.txtとcol2.txtを結合し，元のファイルの1列目と2列目をタブ区切りで並べたテキストファイルを作成せよ．確認にはpasteコマンドを用いよ．"
   ]
  },
  {
   "cell_type": "code",
   "execution_count": 170,
   "metadata": {},
   "outputs": [],
   "source": [
    "col1col2 = pd.concat([col1, col2], axis=1)\n",
    "col1col2.to_csv('../data/col1col2.txt', sep='\\t', header=False, index=False)"
   ]
  },
  {
   "cell_type": "code",
   "execution_count": 171,
   "metadata": {},
   "outputs": [],
   "source": [
    "!paste ../data/col1-cut.txt ../data/col2-cut.txt > ../data/col1col2-paste.txt\n",
    "!diff ../data/col1col2.txt ../data/col1col2-paste.txt"
   ]
  },
  {
   "cell_type": "markdown",
   "metadata": {},
   "source": [
    "### 14. 先頭からN行を出力\n",
    "> 自然数Nをコマンドライン引数などの手段で受け取り，入力のうち先頭のN行だけを表示せよ．確認にはheadコマンドを用いよ．"
   ]
  },
  {
   "cell_type": "code",
   "execution_count": 172,
   "metadata": {},
   "outputs": [
    {
     "data": {
      "text/html": [
       "<div>\n",
       "<style scoped>\n",
       "    .dataframe tbody tr th:only-of-type {\n",
       "        vertical-align: middle;\n",
       "    }\n",
       "\n",
       "    .dataframe tbody tr th {\n",
       "        vertical-align: top;\n",
       "    }\n",
       "\n",
       "    .dataframe thead th {\n",
       "        text-align: right;\n",
       "    }\n",
       "</style>\n",
       "<table border=\"1\" class=\"dataframe\">\n",
       "  <thead>\n",
       "    <tr style=\"text-align: right;\">\n",
       "      <th></th>\n",
       "      <th>0</th>\n",
       "      <th>1</th>\n",
       "      <th>2</th>\n",
       "      <th>3</th>\n",
       "    </tr>\n",
       "  </thead>\n",
       "  <tbody>\n",
       "    <tr>\n",
       "      <th>0</th>\n",
       "      <td>Mary</td>\n",
       "      <td>F</td>\n",
       "      <td>7065</td>\n",
       "      <td>1880</td>\n",
       "    </tr>\n",
       "    <tr>\n",
       "      <th>1</th>\n",
       "      <td>Anna</td>\n",
       "      <td>F</td>\n",
       "      <td>2604</td>\n",
       "      <td>1880</td>\n",
       "    </tr>\n",
       "    <tr>\n",
       "      <th>2</th>\n",
       "      <td>Emma</td>\n",
       "      <td>F</td>\n",
       "      <td>2003</td>\n",
       "      <td>1880</td>\n",
       "    </tr>\n",
       "  </tbody>\n",
       "</table>\n",
       "</div>"
      ],
      "text/plain": [
       "      0  1     2     3\n",
       "0  Mary  F  7065  1880\n",
       "1  Anna  F  2604  1880\n",
       "2  Emma  F  2003  1880"
      ]
     },
     "execution_count": 172,
     "metadata": {},
     "output_type": "execute_result"
    }
   ],
   "source": [
    "n = int(input())\n",
    "df_popular_names.head(n)"
   ]
  },
  {
   "cell_type": "code",
   "execution_count": 173,
   "metadata": {},
   "outputs": [
    {
     "name": "stdout",
     "output_type": "stream",
     "text": [
      "Mary\tF\t7065\t1880\n",
      "Anna\tF\t2604\t1880\n",
      "Emma\tF\t2003\t1880\n",
      "Elizabeth\tF\t1939\t1880\n",
      "Minnie\tF\t1746\t1880\n"
     ]
    }
   ],
   "source": [
    "!head -5 ../data/popular-names.txt"
   ]
  },
  {
   "cell_type": "markdown",
   "metadata": {},
   "source": [
    "### 15. 末尾のN行を出力\n",
    "> 自然数Nをコマンドライン引数などの手段で受け取り，入力のうち末尾のN行だけを表示せよ．確認にはtailコマンドを用いよ"
   ]
  },
  {
   "cell_type": "code",
   "execution_count": 174,
   "metadata": {},
   "outputs": [
    {
     "data": {
      "text/html": [
       "<div>\n",
       "<style scoped>\n",
       "    .dataframe tbody tr th:only-of-type {\n",
       "        vertical-align: middle;\n",
       "    }\n",
       "\n",
       "    .dataframe tbody tr th {\n",
       "        vertical-align: top;\n",
       "    }\n",
       "\n",
       "    .dataframe thead th {\n",
       "        text-align: right;\n",
       "    }\n",
       "</style>\n",
       "<table border=\"1\" class=\"dataframe\">\n",
       "  <thead>\n",
       "    <tr style=\"text-align: right;\">\n",
       "      <th></th>\n",
       "      <th>0</th>\n",
       "      <th>1</th>\n",
       "      <th>2</th>\n",
       "      <th>3</th>\n",
       "    </tr>\n",
       "  </thead>\n",
       "  <tbody>\n",
       "    <tr>\n",
       "      <th>2777</th>\n",
       "      <td>Lucas</td>\n",
       "      <td>M</td>\n",
       "      <td>12585</td>\n",
       "      <td>2018</td>\n",
       "    </tr>\n",
       "    <tr>\n",
       "      <th>2778</th>\n",
       "      <td>Mason</td>\n",
       "      <td>M</td>\n",
       "      <td>12435</td>\n",
       "      <td>2018</td>\n",
       "    </tr>\n",
       "    <tr>\n",
       "      <th>2779</th>\n",
       "      <td>Logan</td>\n",
       "      <td>M</td>\n",
       "      <td>12352</td>\n",
       "      <td>2018</td>\n",
       "    </tr>\n",
       "  </tbody>\n",
       "</table>\n",
       "</div>"
      ],
      "text/plain": [
       "          0  1      2     3\n",
       "2777  Lucas  M  12585  2018\n",
       "2778  Mason  M  12435  2018\n",
       "2779  Logan  M  12352  2018"
      ]
     },
     "execution_count": 174,
     "metadata": {},
     "output_type": "execute_result"
    }
   ],
   "source": [
    "n = int(input())\n",
    "df_popular_names.tail(n)"
   ]
  },
  {
   "cell_type": "code",
   "execution_count": 175,
   "metadata": {},
   "outputs": [
    {
     "name": "stdout",
     "output_type": "stream",
     "text": [
      "Benjamin\tM\t13381\t2018\n",
      "Elijah\tM\t12886\t2018\n",
      "Lucas\tM\t12585\t2018\n",
      "Mason\tM\t12435\t2018\n",
      "Logan\tM\t12352\t2018\n"
     ]
    }
   ],
   "source": [
    "!tail -5 ../data/popular-names.txt"
   ]
  },
  {
   "cell_type": "markdown",
   "metadata": {},
   "source": [
    "### 16. ファイルをN分割する\n",
    "> 自然数Nをコマンドライン引数などの手段で受け取り，入力のファイルを行単位でN分割せよ．同様の処理をsplitコマンドで実現せよ．"
   ]
  },
  {
   "cell_type": "code",
   "execution_count": 176,
   "metadata": {},
   "outputs": [],
   "source": [
    "total_partitions = int(input())\n",
    "n_rows = df_popular_names.shape[0]\n",
    "\n",
    "idx_start = 0 # 各分割の頭の位置\n",
    "idx_end = n_rows // total_partitions # 各分割のおしりの位置\n",
    "\n",
    "# 余りなく分割できるとき -> そのまま分割\n",
    "if idx_end*total_partitions == n_rows:\n",
    "    for i in range(total_partitions):\n",
    "\n",
    "        output_path = f'../data/popular-names-part{i+1}'\n",
    "\n",
    "        part = df_popular_names[idx_start:idx_end]\n",
    "        part.to_csv(output_path, sep='\\t', header=False, index=False)\n",
    "\n",
    "        idx_start = idx_end\n",
    "        idx_end += n_rows // total_partitions\n",
    "\n",
    "# 余りが出るとき -> 剰余分を均一に割り振る\n",
    "# 例: 11行を3分割 -> 4, 4, 3\n",
    "else:\n",
    "    reminder = n_rows % total_partitions\n",
    "    for i in range(total_partitions):\n",
    "\n",
    "        output_path = f'../data/popular-names-part{i+1}'\n",
    "        idx_end += 1 if (reminder := reminder-1) >= 0 else 0 # 余剰分がなくなるまでidx_endを+1\n",
    "        \n",
    "        part = df_popular_names[idx_start:idx_end]\n",
    "        part.to_csv(output_path, sep='\\t', header=False, index=False)\n",
    "\n",
    "        idx_start = idx_end\n",
    "        idx_end += n_rows // total_partitions"
   ]
  },
  {
   "cell_type": "code",
   "execution_count": 177,
   "metadata": {},
   "outputs": [],
   "source": [
    "!split -n 3 ../data/popular-names.txt ../data/"
   ]
  },
  {
   "cell_type": "markdown",
   "metadata": {},
   "source": [
    "### 17. １列目の文字列の異なり\n",
    "> 1列目の文字列の種類（異なる文字列の集合）を求めよ．確認にはcut, sort, uniqコマンドを用いよ"
   ]
  },
  {
   "cell_type": "code",
   "execution_count": 178,
   "metadata": {},
   "outputs": [
    {
     "data": {
      "text/plain": [
       "{'Abigail',\n",
       " 'Aiden',\n",
       " 'Alexander',\n",
       " 'Alexis',\n",
       " 'Alice',\n",
       " 'Amanda',\n",
       " 'Amelia',\n",
       " 'Amy',\n",
       " 'Andrew',\n",
       " 'Angela',\n",
       " 'Anna',\n",
       " 'Annie',\n",
       " 'Anthony',\n",
       " 'Ashley',\n",
       " 'Austin',\n",
       " 'Ava',\n",
       " 'Barbara',\n",
       " 'Benjamin',\n",
       " 'Bertha',\n",
       " 'Bessie',\n",
       " 'Betty',\n",
       " 'Brandon',\n",
       " 'Brian',\n",
       " 'Brittany',\n",
       " 'Carol',\n",
       " 'Carolyn',\n",
       " 'Charles',\n",
       " 'Charlotte',\n",
       " 'Chloe',\n",
       " 'Christopher',\n",
       " 'Clara',\n",
       " 'Crystal',\n",
       " 'Cynthia',\n",
       " 'Daniel',\n",
       " 'David',\n",
       " 'Deborah',\n",
       " 'Debra',\n",
       " 'Donald',\n",
       " 'Donna',\n",
       " 'Doris',\n",
       " 'Dorothy',\n",
       " 'Edward',\n",
       " 'Elijah',\n",
       " 'Elizabeth',\n",
       " 'Emily',\n",
       " 'Emma',\n",
       " 'Ethan',\n",
       " 'Ethel',\n",
       " 'Evelyn',\n",
       " 'Florence',\n",
       " 'Frances',\n",
       " 'Frank',\n",
       " 'Gary',\n",
       " 'George',\n",
       " 'Hannah',\n",
       " 'Harper',\n",
       " 'Harry',\n",
       " 'Heather',\n",
       " 'Helen',\n",
       " 'Henry',\n",
       " 'Ida',\n",
       " 'Isabella',\n",
       " 'Jacob',\n",
       " 'James',\n",
       " 'Jason',\n",
       " 'Jayden',\n",
       " 'Jeffrey',\n",
       " 'Jennifer',\n",
       " 'Jessica',\n",
       " 'Joan',\n",
       " 'John',\n",
       " 'Joseph',\n",
       " 'Joshua',\n",
       " 'Judith',\n",
       " 'Julie',\n",
       " 'Justin',\n",
       " 'Karen',\n",
       " 'Kathleen',\n",
       " 'Kelly',\n",
       " 'Kimberly',\n",
       " 'Larry',\n",
       " 'Laura',\n",
       " 'Lauren',\n",
       " 'Liam',\n",
       " 'Lillian',\n",
       " 'Linda',\n",
       " 'Lisa',\n",
       " 'Logan',\n",
       " 'Lori',\n",
       " 'Lucas',\n",
       " 'Madison',\n",
       " 'Margaret',\n",
       " 'Marie',\n",
       " 'Mark',\n",
       " 'Mary',\n",
       " 'Mason',\n",
       " 'Matthew',\n",
       " 'Megan',\n",
       " 'Melissa',\n",
       " 'Mia',\n",
       " 'Michael',\n",
       " 'Michelle',\n",
       " 'Mildred',\n",
       " 'Minnie',\n",
       " 'Nancy',\n",
       " 'Nicholas',\n",
       " 'Nicole',\n",
       " 'Noah',\n",
       " 'Oliver',\n",
       " 'Olivia',\n",
       " 'Pamela',\n",
       " 'Patricia',\n",
       " 'Rachel',\n",
       " 'Rebecca',\n",
       " 'Richard',\n",
       " 'Robert',\n",
       " 'Ronald',\n",
       " 'Ruth',\n",
       " 'Samantha',\n",
       " 'Sandra',\n",
       " 'Sarah',\n",
       " 'Scott',\n",
       " 'Sharon',\n",
       " 'Shirley',\n",
       " 'Sophia',\n",
       " 'Stephanie',\n",
       " 'Steven',\n",
       " 'Susan',\n",
       " 'Tammy',\n",
       " 'Taylor',\n",
       " 'Thomas',\n",
       " 'Tracy',\n",
       " 'Tyler',\n",
       " 'Virginia',\n",
       " 'Walter',\n",
       " 'William'}"
      ]
     },
     "execution_count": 178,
     "metadata": {},
     "output_type": "execute_result"
    }
   ],
   "source": [
    "set(df_popular_names[0])"
   ]
  },
  {
   "cell_type": "code",
   "execution_count": 179,
   "metadata": {},
   "outputs": [],
   "source": [
    "!cut -f 1 ../data/popular-names.txt | sort -u  > ../data/unique.txt"
   ]
  },
  {
   "cell_type": "markdown",
   "metadata": {},
   "source": [
    "### 18. 各行を3コラム目の数値の降順にソート\n",
    "> 各行を3コラム目の数値の逆順で整列せよ（注意: 各行の内容は変更せずに並び替えよ）．確認にはsortコマンドを用いよ（この問題はコマンドで実行した時の結果と合わなくてもよい）."
   ]
  },
  {
   "cell_type": "code",
   "execution_count": 180,
   "metadata": {},
   "outputs": [
    {
     "data": {
      "text/html": [
       "<div>\n",
       "<style scoped>\n",
       "    .dataframe tbody tr th:only-of-type {\n",
       "        vertical-align: middle;\n",
       "    }\n",
       "\n",
       "    .dataframe tbody tr th {\n",
       "        vertical-align: top;\n",
       "    }\n",
       "\n",
       "    .dataframe thead th {\n",
       "        text-align: right;\n",
       "    }\n",
       "</style>\n",
       "<table border=\"1\" class=\"dataframe\">\n",
       "  <thead>\n",
       "    <tr style=\"text-align: right;\">\n",
       "      <th></th>\n",
       "      <th>0</th>\n",
       "      <th>1</th>\n",
       "      <th>2</th>\n",
       "      <th>3</th>\n",
       "    </tr>\n",
       "  </thead>\n",
       "  <tbody>\n",
       "    <tr>\n",
       "      <th>1340</th>\n",
       "      <td>Linda</td>\n",
       "      <td>F</td>\n",
       "      <td>99689</td>\n",
       "      <td>1947</td>\n",
       "    </tr>\n",
       "    <tr>\n",
       "      <th>1360</th>\n",
       "      <td>Linda</td>\n",
       "      <td>F</td>\n",
       "      <td>96211</td>\n",
       "      <td>1948</td>\n",
       "    </tr>\n",
       "    <tr>\n",
       "      <th>1350</th>\n",
       "      <td>James</td>\n",
       "      <td>M</td>\n",
       "      <td>94757</td>\n",
       "      <td>1947</td>\n",
       "    </tr>\n",
       "    <tr>\n",
       "      <th>1550</th>\n",
       "      <td>Michael</td>\n",
       "      <td>M</td>\n",
       "      <td>92704</td>\n",
       "      <td>1957</td>\n",
       "    </tr>\n",
       "    <tr>\n",
       "      <th>1351</th>\n",
       "      <td>Robert</td>\n",
       "      <td>M</td>\n",
       "      <td>91640</td>\n",
       "      <td>1947</td>\n",
       "    </tr>\n",
       "    <tr>\n",
       "      <th>...</th>\n",
       "      <td>...</td>\n",
       "      <td>...</td>\n",
       "      <td>...</td>\n",
       "      <td>...</td>\n",
       "    </tr>\n",
       "    <tr>\n",
       "      <th>27</th>\n",
       "      <td>Annie</td>\n",
       "      <td>F</td>\n",
       "      <td>1326</td>\n",
       "      <td>1881</td>\n",
       "    </tr>\n",
       "    <tr>\n",
       "      <th>28</th>\n",
       "      <td>Bertha</td>\n",
       "      <td>F</td>\n",
       "      <td>1324</td>\n",
       "      <td>1881</td>\n",
       "    </tr>\n",
       "    <tr>\n",
       "      <th>8</th>\n",
       "      <td>Bertha</td>\n",
       "      <td>F</td>\n",
       "      <td>1320</td>\n",
       "      <td>1880</td>\n",
       "    </tr>\n",
       "    <tr>\n",
       "      <th>29</th>\n",
       "      <td>Alice</td>\n",
       "      <td>F</td>\n",
       "      <td>1308</td>\n",
       "      <td>1881</td>\n",
       "    </tr>\n",
       "    <tr>\n",
       "      <th>9</th>\n",
       "      <td>Sarah</td>\n",
       "      <td>F</td>\n",
       "      <td>1288</td>\n",
       "      <td>1880</td>\n",
       "    </tr>\n",
       "  </tbody>\n",
       "</table>\n",
       "<p>2780 rows × 4 columns</p>\n",
       "</div>"
      ],
      "text/plain": [
       "            0  1      2     3\n",
       "1340    Linda  F  99689  1947\n",
       "1360    Linda  F  96211  1948\n",
       "1350    James  M  94757  1947\n",
       "1550  Michael  M  92704  1957\n",
       "1351   Robert  M  91640  1947\n",
       "...       ... ..    ...   ...\n",
       "27      Annie  F   1326  1881\n",
       "28     Bertha  F   1324  1881\n",
       "8      Bertha  F   1320  1880\n",
       "29      Alice  F   1308  1881\n",
       "9       Sarah  F   1288  1880\n",
       "\n",
       "[2780 rows x 4 columns]"
      ]
     },
     "execution_count": 180,
     "metadata": {},
     "output_type": "execute_result"
    }
   ],
   "source": [
    "df_popular_names.sort_values(2, ascending=False)"
   ]
  },
  {
   "cell_type": "code",
   "execution_count": 181,
   "metadata": {},
   "outputs": [],
   "source": [
    "!sort -r -k 3n -t \\t ../data/popular-names.txt > ../data/popular-names-sorted.txt"
   ]
  },
  {
   "cell_type": "markdown",
   "metadata": {},
   "source": [
    "### 19. 各行の1コラム目の文字列の出現頻度を求め，出現頻度の高い順に並べる\n",
    "> 各行の1列目の文字列の出現頻度を求め，その高い順に並べて表示せよ．確認にはcut, uniq, sortコマンドを用いよ"
   ]
  },
  {
   "cell_type": "code",
   "execution_count": 182,
   "metadata": {},
   "outputs": [],
   "source": [
    "df_freq = df_popular_names[0].value_counts()\n",
    "df_freq.to_csv('../data/frequency1.txt', sep='\\t', header=False, index=True)"
   ]
  },
  {
   "cell_type": "code",
   "execution_count": 184,
   "metadata": {},
   "outputs": [],
   "source": [
    "!cut -f 1 ../data/popular-names.txt | sort | uniq -c | sort -r -k 1  > ../data/frequency2.txt"
   ]
  },
  {
   "cell_type": "code",
   "execution_count": null,
   "metadata": {},
   "outputs": [],
   "source": []
  }
 ],
 "metadata": {
  "kernelspec": {
   "display_name": ".venv",
   "language": "python",
   "name": "python3"
  },
  "language_info": {
   "codemirror_mode": {
    "name": "ipython",
    "version": 3
   },
   "file_extension": ".py",
   "mimetype": "text/x-python",
   "name": "python",
   "nbconvert_exporter": "python",
   "pygments_lexer": "ipython3",
   "version": "3.13.0"
  }
 },
 "nbformat": 4,
 "nbformat_minor": 2
}
