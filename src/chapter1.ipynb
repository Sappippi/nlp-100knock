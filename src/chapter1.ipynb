{
 "cells": [
  {
   "cell_type": "code",
   "execution_count": 1,
   "metadata": {},
   "outputs": [
    {
     "name": "stdout",
     "output_type": "stream",
     "text": [
      "desserts\n"
     ]
    }
   ],
   "source": [
    "word = \"stressed\"\n",
    "\n",
    "# word[::-1] が最高\n",
    "list_lett = list(word)\n",
    "list_lett.reverse() \n",
    "\n",
    "print(\"\".join(list_lett))"
   ]
  },
  {
   "cell_type": "code",
   "execution_count": 2,
   "metadata": {},
   "outputs": [
    {
     "name": "stdout",
     "output_type": "stream",
     "text": [
      "パトカー\n"
     ]
    }
   ],
   "source": [
    "word = \"パタトクカシーー\"\n",
    "list_lett = list(word)\n",
    "\n",
    "rslt = [list_lett[i] for i in range(0, len(list_lett)-1, 2)]\n",
    "\n",
    "print(\"\".join(rslt))"
   ]
  },
  {
   "cell_type": "code",
   "execution_count": 3,
   "metadata": {},
   "outputs": [
    {
     "name": "stdout",
     "output_type": "stream",
     "text": [
      "パタトクカシーー\n"
     ]
    }
   ],
   "source": [
    "str1 = \"パトカー\"\n",
    "str2 = \"タクシー\"\n",
    "\n",
    "rslt = \"\"\n",
    "for pato, tax in zip(str1, str2):\n",
    "    rslt += pato + tax\n",
    "\n",
    "print(rslt)"
   ]
  },
  {
   "cell_type": "code",
   "execution_count": 10,
   "metadata": {},
   "outputs": [
    {
     "name": "stdout",
     "output_type": "stream",
     "text": [
      "['3', '1', '4', '1', '5', '9', '2', '6', '5', '3', '5', '8', '9', '7', '9']\n"
     ]
    }
   ],
   "source": [
    "sentence = \"Now I need a drink, alcoholic of course, after the heavy lectures involving quantum mechanics.\"\n",
    "\n",
    "sentence = sentence.replace(\",\", \"\").replace(\".\", \"\")\n",
    "sentence = sentence.split()\n",
    "\n",
    "pi = [n for n in map(lambda x: len(x), sentence)]\n",
    "\n",
    "print(pi)"
   ]
  },
  {
   "cell_type": "code",
   "execution_count": 5,
   "metadata": {},
   "outputs": [
    {
     "name": "stdout",
     "output_type": "stream",
     "text": [
      "['I am', 'an NLPer']\n",
      "['I am', 'an NLPer']\n",
      "['I am', 'an NLPer']\n",
      "['Ia', 'ma', 'nN', 'LP', 'er']\n",
      "['Ia', 'ma', 'nN', 'LP', 'er']\n",
      "['Ia', 'ma', 'nN', 'LP', 'er']\n"
     ]
    }
   ],
   "source": [
    "from my_functions import n_gram\n",
    "\n",
    "str_sentence = \"I am an NLPer\"\n",
    "list_sentence = [\"I\", \"am\", \"an\", \"NLPer\"]\n",
    "tup_sentence = (\"I\", \"am\", \"an\", \"NLPer\")\n",
    "\n",
    "print(n_gram(str_sentence))\n",
    "print(n_gram(list_sentence))\n",
    "print(n_gram(tup_sentence))\n",
    "\n",
    "print(n_gram(str_sentence, mode=\"letter\"))\n",
    "print(n_gram(list_sentence, mode=\"letter\"))\n",
    "print(n_gram(tup_sentence, mode=\"letter\"))"
   ]
  },
  {
   "cell_type": "code",
   "execution_count": 6,
   "metadata": {},
   "outputs": [
    {
     "name": "stdout",
     "output_type": "stream",
     "text": [
      "join:  {'ap', 'ra', 'gr', 'se', 'h', 'di', 'pa'}\n",
      "meets  {'ra', 'pa'}\n",
      "diff  {'di', 'se'}\n",
      "aに se が含まれる？ ->  True\n",
      "bに se が含まれる？ ->  False\n"
     ]
    }
   ],
   "source": [
    "str1 = 'paraparaparadise'\n",
    "str2 = 'paragraph'\n",
    "query = 'se'\n",
    "\n",
    "a = set(n_gram(str1, mode= \"letter\"))\n",
    "b = set(n_gram(str2, mode= \"letter\"))\n",
    "qset = {query}\n",
    "\n",
    "print(\"join: \", a | b)\n",
    "print(\"meets \", a & b)\n",
    "print(\"diff \", a - b)\n",
    "\n",
    "print(\"aに\", query, \"が含まれる？ -> \", qset & a == qset)\n",
    "print(\"bに\", query, \"が含まれる？ -> \", qset & b == qset)"
   ]
  },
  {
   "cell_type": "code",
   "execution_count": 7,
   "metadata": {},
   "outputs": [
    {
     "name": "stdout",
     "output_type": "stream",
     "text": [
      "12時の気温は22.4\n"
     ]
    }
   ],
   "source": [
    "from my_functions import generate_str_by_template\n",
    "\n",
    "x = 12\n",
    "y = '気温'\n",
    "z = 22.4\n",
    "\n",
    "print(generate_str_by_template(x, y, z))"
   ]
  },
  {
   "cell_type": "code",
   "execution_count": 8,
   "metadata": {},
   "outputs": [
    {
     "name": "stdout",
     "output_type": "stream",
     "text": [
      "Tzpvhsrnz»rh»Jzkzmvhv»gviirglib¯»zh»dvoo»zh»Svmpzpf»rozmwh­\n",
      "Takeshima is Japanese territory, as well as Senkaku ilands.\n"
     ]
    }
   ],
   "source": [
    "from my_functions import cipher\n",
    "\n",
    "message = 'Takeshima is Japanese territory, as well as Senkaku ilands.'\n",
    "crypt = cipher(message)\n",
    "\n",
    "print(crypt)\n",
    "print(cipher(crypt))"
   ]
  },
  {
   "cell_type": "code",
   "execution_count": 9,
   "metadata": {},
   "outputs": [
    {
     "name": "stdout",
     "output_type": "stream",
     "text": [
      "The Edo period also knwon as the Taugwkoa period is the preoid bteween 1603 and 1868 in the htoisry of Japan when Jaapn was uednr the rule of the Twakguoa snuoathge and the c'toyrnus 300 rnioaegl daomiy. \n"
     ]
    }
   ],
   "source": [
    "from my_functions import str_shuff\n",
    "\n",
    "sentence = \"The Edo period also known as the Tokugawa period is the period between 1603 and 1868 in the history of Japan when Japan was under the rule of the Tokugawa shogunate and the country's 300 regional daimyo.\"\n",
    "\n",
    "sentence = sentence.split(\" \")\n",
    "shuffled = [c + \" \" for c in map(lambda s: s[0] + str_shuff(s[1:-1]) + s[-1] if len(s) >= 5 else s, sentence)] # 5文字以上の単語の最初と最後の文字以外をシャッフル\n",
    "\n",
    "print(\"\".join(shuffled))"
   ]
  },
  {
   "cell_type": "code",
   "execution_count": 12,
   "metadata": {},
   "outputs": [
    {
     "name": "stdout",
     "output_type": "stream",
     "text": [
      "False\n"
     ]
    }
   ],
   "source": [
    "print('1234'.isupper())"
   ]
  },
  {
   "cell_type": "code",
   "execution_count": null,
   "metadata": {},
   "outputs": [],
   "source": []
  }
 ],
 "metadata": {
  "kernelspec": {
   "display_name": ".venv",
   "language": "python",
   "name": "python3"
  },
  "language_info": {
   "codemirror_mode": {
    "name": "ipython",
    "version": 3
   },
   "file_extension": ".py",
   "mimetype": "text/x-python",
   "name": "python",
   "nbconvert_exporter": "python",
   "pygments_lexer": "ipython3",
   "version": "3.13.0"
  }
 },
 "nbformat": 4,
 "nbformat_minor": 2
}
